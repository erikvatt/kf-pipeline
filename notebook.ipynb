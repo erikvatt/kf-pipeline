{
 "cells": [
  {
   "cell_type": "code",
   "execution_count": 2,
   "metadata": {
    "tags": [
     "parameters"
    ]
   },
   "outputs": [],
   "source": [
    "base_url = \".\""
   ]
  },
  {
   "cell_type": "code",
   "execution_count": 3,
   "metadata": {},
   "outputs": [],
   "source": [
    "from dataverk import Client, Datapackage"
   ]
  },
  {
   "cell_type": "code",
   "execution_count": 4,
   "metadata": {},
   "outputs": [],
   "source": [
    "dv = Client(base_url)"
   ]
  },
  {
   "cell_type": "code",
   "execution_count": 5,
   "metadata": {},
   "outputs": [
    {
     "name": "stdout",
     "output_type": "stream",
     "text": [
      "2019-09-09T08:27:28.842914: V153753 https://data.ssb.no/api/v0/no/table/01223\n"
     ]
    }
   ],
   "source": [
    "df = dv.read_json_stat(\"https://data.ssb.no/api/v0/no/table/01223\")"
   ]
  },
  {
   "cell_type": "code",
   "execution_count": 6,
   "metadata": {},
   "outputs": [
    {
     "data": {
      "text/html": [
       "<div>\n",
       "<style scoped>\n",
       "    .dataframe tbody tr th:only-of-type {\n",
       "        vertical-align: middle;\n",
       "    }\n",
       "\n",
       "    .dataframe tbody tr th {\n",
       "        vertical-align: top;\n",
       "    }\n",
       "\n",
       "    .dataframe thead th {\n",
       "        text-align: right;\n",
       "    }\n",
       "</style>\n",
       "<table border=\"1\" class=\"dataframe\">\n",
       "  <thead>\n",
       "    <tr style=\"text-align: right;\">\n",
       "      <th></th>\n",
       "      <th>region</th>\n",
       "      <th>statistikkvariabel</th>\n",
       "      <th>kvartal (u)</th>\n",
       "      <th>value</th>\n",
       "    </tr>\n",
       "  </thead>\n",
       "  <tbody>\n",
       "    <tr>\n",
       "      <th>0</th>\n",
       "      <td>Hele landet</td>\n",
       "      <td>Befolkning 1. januar</td>\n",
       "      <td>1997K4</td>\n",
       "      <td>4392714.0</td>\n",
       "    </tr>\n",
       "    <tr>\n",
       "      <th>1</th>\n",
       "      <td>Hele landet</td>\n",
       "      <td>Befolkning 1. januar</td>\n",
       "      <td>1998K2</td>\n",
       "      <td>4417599.0</td>\n",
       "    </tr>\n",
       "    <tr>\n",
       "      <th>2</th>\n",
       "      <td>Hele landet</td>\n",
       "      <td>Befolkning 1. januar</td>\n",
       "      <td>1998K3</td>\n",
       "      <td>4417599.0</td>\n",
       "    </tr>\n",
       "    <tr>\n",
       "      <th>3</th>\n",
       "      <td>Hele landet</td>\n",
       "      <td>Befolkning 1. januar</td>\n",
       "      <td>1998K4</td>\n",
       "      <td>4417599.0</td>\n",
       "    </tr>\n",
       "    <tr>\n",
       "      <th>4</th>\n",
       "      <td>Hele landet</td>\n",
       "      <td>Befolkning 1. januar</td>\n",
       "      <td>1999K2</td>\n",
       "      <td>4445329.0</td>\n",
       "    </tr>\n",
       "  </tbody>\n",
       "</table>\n",
       "</div>"
      ],
      "text/plain": [
       "        region    statistikkvariabel kvartal (u)      value\n",
       "0  Hele landet  Befolkning 1. januar      1997K4  4392714.0\n",
       "1  Hele landet  Befolkning 1. januar      1998K2  4417599.0\n",
       "2  Hele landet  Befolkning 1. januar      1998K3  4417599.0\n",
       "3  Hele landet  Befolkning 1. januar      1998K4  4417599.0\n",
       "4  Hele landet  Befolkning 1. januar      1999K2  4445329.0"
      ]
     },
     "execution_count": 6,
     "metadata": {},
     "output_type": "execute_result"
    }
   ],
   "source": [
    "df.head()"
   ]
  }
 ],
 "metadata": {
  "celltoolbar": "Tags",
  "kernelspec": {
   "display_name": "Python 3",
   "language": "python",
   "name": "python3"
  },
  "language_info": {
   "codemirror_mode": {
    "name": "ipython",
    "version": 3
   },
   "file_extension": ".py",
   "mimetype": "text/x-python",
   "name": "python",
   "nbconvert_exporter": "python",
   "pygments_lexer": "ipython3",
   "version": "3.6.5"
  }
 },
 "nbformat": 4,
 "nbformat_minor": 2
}
